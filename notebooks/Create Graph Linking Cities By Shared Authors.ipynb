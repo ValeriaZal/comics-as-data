{
 "cells": [
  {
   "cell_type": "markdown",
   "metadata": {},
   "source": [
    "## Create Graph Linking Cities By Shared Authors\n",
    "\n",
    "The code in this notebook creates two files: `edges.tsv` and `nodes.csv`, which are in a format suitable for input to [flourish.studio](https://flourish.studio/) as a network graph.\n",
    "\n",
    "The first step below converts the flat `csv` data into hierarchical data organized by city name and author."
   ]
  },
  {
   "cell_type": "code",
   "execution_count": null,
   "metadata": {},
   "outputs": [],
   "source": [
    "import csv\n",
    "import os\n",
    "\n",
    "csv_path = \"../comics_as_data_north_america_2020-01-09_Cleaned.csv\"\n",
    "author_cities = {}\n",
    "city_counts = {}\n",
    "\n",
    "with open(csv_path) as f:\n",
    "    csvreader = csv.DictReader(f)\n",
    "    \n",
    "    for row in csvreader:\n",
    "\n",
    "        # Separate author name from uri.\n",
    "        author = row[\"Author\"].split(\"http\")[0].strip()\n",
    "        # Skip records without an author.\n",
    "        if author == '':\n",
    "            continue\n",
    "    \n",
    "        city = row[\"City of Publication\"]\n",
    "        citystate = \", \".join([city, row[\"State or Province\"]]).strip()\n",
    "        \n",
    "        # Skip records without a city, i.e. with a single-digit country code.\n",
    "        if city.isdigit():\n",
    "            continue\n",
    "        \n",
    "        # print(author, city)\n",
    "\n",
    "        if author not in author_cities:\n",
    "            author_cities[author] = {}\n",
    "        \n",
    "        #Compile data about cities by authors.\n",
    "        author_cities[author][citystate] = author_cities[author].get(citystate, 0) + 1 \n",
    "        \n",
    "        # Total # of records for each city.\n",
    "        city_counts[citystate] = city_counts.get(citystate, 0) + 1\n",
    "            \n",
    "print(len(author_cities))"
   ]
  },
  {
   "cell_type": "markdown",
   "metadata": {},
   "source": [
    "The next step iterates over every unique pair of cities associated with each author, and creates a link between them. That is, if an author is associated with San Francisco, Berkeley, and Oakland, links are created as in:\n",
    "- San Francisco -- Berkeley\n",
    "- San Francisco -- Oakland\n",
    "- Berkeley -- Oakland\n",
    "\n",
    "These links are undirected so the order of the cities in these linkages doesn't matter."
   ]
  },
  {
   "cell_type": "code",
   "execution_count": null,
   "metadata": {},
   "outputs": [],
   "source": [
    "from itertools import combinations\n",
    "import networkx as nx\n",
    "\n",
    "G = nx.Graph()\n",
    "\n",
    "for author, cities in author_cities.items():\n",
    "    citieslist = list(cities.keys())\n",
    "    for i, j in combinations(citieslist, 2):\n",
    "\n",
    "        if G.has_edge(i, j):\n",
    "            G[i][j][\"weight\"] += 1\n",
    "            if author not in G[i][j][\"authors\"]:\n",
    "                G[i][j][\"authors\"].append(author)\n",
    "\n",
    "        else:\n",
    "            G.add_edge(i, j, weight=1, authors=[author])\n",
    "            G.nodes[i][\"weight\"] = city_counts[i]\n",
    "            G.nodes[j][\"weight\"] = city_counts[j]\n",
    "            G.nodes[i][\"state\"] = i[-2:]\n",
    "            G.nodes[j][\"state\"] = j[-2:]\n"
   ]
  },
  {
   "cell_type": "markdown",
   "metadata": {},
   "source": [
    "Lastly create each file, one containing all the nodes (publication cities) and another containing data about which nodes should be connected."
   ]
  },
  {
   "cell_type": "code",
   "execution_count": null,
   "metadata": {},
   "outputs": [],
   "source": [
    "import csv\n",
    "\n",
    "nx.write_edgelist(G, \"edges.tsv\", delimiter=\"\\t\", data=[\"weight\"])\n",
    "with open(\"nodes.csv\", \"w\") as f:\n",
    "    fieldnames = [\"id\", \"weight\", \"state\"]\n",
    "    writer = csv.DictWriter(f, fieldnames=fieldnames)\n",
    "    writer.writeheader()\n",
    "    for n, data in list(G.nodes(data=True)):\n",
    "        row = {\n",
    "            \"id\": n,\n",
    "            \"weight\": data[\"weight\"],\n",
    "            \"state\": data[\"state\"]\n",
    "        }\n",
    "        writer.writerow(row)\n",
    "    "
   ]
  }
 ],
 "metadata": {
  "kernelspec": {
   "display_name": "Python 3",
   "language": "python",
   "name": "python3"
  },
  "language_info": {
   "codemirror_mode": {
    "name": "ipython",
    "version": 3
   },
   "file_extension": ".py",
   "mimetype": "text/x-python",
   "name": "python",
   "nbconvert_exporter": "python",
   "pygments_lexer": "ipython3",
   "version": "3.7.3"
  }
 },
 "nbformat": 4,
 "nbformat_minor": 1
}
